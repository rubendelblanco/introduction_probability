{
 "cells": [
  {
   "cell_type": "markdown",
   "id": "7738f7c0-cbe2-4617-9a32-4a839e6446f8",
   "metadata": {},
   "source": [
    "## Conditional probability"
   ]
  },
  {
   "cell_type": "markdown",
   "id": "f71bab83-b329-4285-8109-8df9d448689a",
   "metadata": {},
   "source": [
    "If A and B are events with P(B) > 0,\n",
    "then the conditional probability of A given B, denoted by P(A|B), is defined as\n",
    "\n",
    "$$ P(A|B) = \\frac{P(A \\cap B)}{P(B)}  $$"
   ]
  },
  {
   "cell_type": "markdown",
   "id": "e4fb2cdf-d6cd-446d-964a-054949cb2004",
   "metadata": {},
   "source": [
    "### Example 2.2.2"
   ]
  },
  {
   "cell_type": "markdown",
   "id": "1ccdde1c-f1cc-491b-88ec-e49713bbfecb",
   "metadata": {},
   "source": [
    "A standard deck of cards is shuffled well. Two cards are drawn randomly, one at a time without replacement. Let A be the event that the first card is a heart ❤, and B the event that the second card is red. Find P(A|B) and P(B|A)"
   ]
  },
  {
   "cell_type": "code",
   "execution_count": 1,
   "id": "fbfb536c",
   "metadata": {},
   "outputs": [
    {
     "name": "stdout",
     "output_type": "stream",
     "text": [
      "P(A|B):\n",
      "0.24509803921568626\n"
     ]
    }
   ],
   "source": [
    "# A intersection B\n",
    "# 13 -> heart cards\n",
    "# 25 -> 13*2 = 26 red cards, 26-1 + 25, -1 because the previous hearts card is red too\n",
    "# 52 -> total cards\n",
    "# 51 -> 52-1, because one card is drawn, so:\n",
    "\n",
    "intersection = (13*25)/(52*51)\n",
    "# prob(B) = 1/2 -> because there is 50% of probabilities to draw a red card\n",
    "p_b = 1/2\n",
    "\n",
    "print('P(A|B):')\n",
    "print(intersection/p_b)"
   ]
  },
  {
   "cell_type": "code",
   "execution_count": 2,
   "id": "53c9ee3e",
   "metadata": {},
   "outputs": [
    {
     "name": "stdout",
     "output_type": "stream",
     "text": [
      "P(B|A):\n",
      "0.49019607843137253\n"
     ]
    }
   ],
   "source": [
    "# prob(A) = 1/4 -> because ther is 50% of probabilities to draw a heart\n",
    "p_a = 1/4\n",
    "print('P(B|A):')\n",
    "print(intersection/p_a)"
   ]
  },
  {
   "cell_type": "markdown",
   "id": "02028c3b",
   "metadata": {},
   "source": [
    "### Example 2.2.5 \n",
    "\n",
    "(Two children). Martin Gardner posed the following puzzle in the\n",
    "1950s, in his column in Scientific American.\n",
    "\n",
    "A) Mr. Jones has two children. The older child is a girl. What is the probability that\n",
    "both children are girls?\n",
    "\n",
    "B) Mr. Smith has two children. At least one of them is a boy. What is the prob-\n",
    "ability that both children are boys?"
   ]
  },
  {
   "cell_type": "markdown",
   "id": "60e79678",
   "metadata": {},
   "source": [
    "A) Let's use truth tables (p AND q), assume that 1 is a girl, 0 isn't\n",
    "\n",
    "| first child | second child | Result |\n",
    "|-------------|--------------|--------|\n",
    "| 1           | 0            | 0      |\n",
    "| 1           | 1            | 1      |\n",
    "\n",
    "then p = 1/2 = 0.5\n",
    "\n",
    "B) The truth table here is\n",
    "\n",
    "| first child | second child | Result |\n",
    "|-------------|--------------|--------|\n",
    "| 1           | 0            | 0      |\n",
    "| 0           | 1            | 0      |\n",
    "| 1           | 1            | 1      |\n",
    "| 1           | 1            | 1      |\n",
    "\n",
    "But the two last rows are equal (redundant) so simplifying it\n",
    "\n",
    "| first child | second child | Result |\n",
    "|-------------|--------------|--------|\n",
    "| 1           | 0            | 0      |\n",
    "| 0           | 1            | 0      |\n",
    "| 1           | 1            | 1      |\n",
    "\n",
    "the p = 1/3"
   ]
  },
  {
   "cell_type": "markdown",
   "id": "05d1ce7a",
   "metadata": {},
   "source": [
    "#### Bayes method\n",
    "\n",
    "There's no reason to use Bayes as we saw above but anyways...\n",
    "\n",
    "Intersection or P(both girls|elder is a girl) = 0.25 cos the chances are\n",
    "\n",
    "| first child | second child | Result |\n",
    "|-------------|--------------|--------|\n",
    "| 0           | 0            | 0      |\n",
    "| 0           | 1            | 0      |\n",
    "| 1           | 0            | 0      |\n",
    "| 1           | 1            | 1      |\n",
    "\n",
    "P(elder is a girl in any case) = 1/2 "
   ]
  },
  {
   "cell_type": "code",
   "execution_count": 3,
   "id": "5f1a4944",
   "metadata": {},
   "outputs": [
    {
     "name": "stdout",
     "output_type": "stream",
     "text": [
      "P(A|B):\n",
      "0.5\n"
     ]
    }
   ],
   "source": [
    "#Let's code\n",
    "#Case A\n",
    "intersection = 0.25\n",
    "p_b = 0.5\n",
    "\n",
    "print('P(A|B):')\n",
    "print(intersection/p_b)"
   ]
  },
  {
   "cell_type": "code",
   "execution_count": 4,
   "id": "cf51fd91",
   "metadata": {},
   "outputs": [
    {
     "name": "stdout",
     "output_type": "stream",
     "text": [
      "P(A|B):\n",
      "0.3333333333333333\n"
     ]
    }
   ],
   "source": [
    "#Case B\n",
    "#intersection in this case is P(both girls|at least one girl)\n",
    "intersection = 0.25\n",
    "#P(B) -> at least one girl, i.e. 3/4\n",
    "p_b = 0.75\n",
    "\n",
    "print('P(A|B):')\n",
    "print(intersection/p_b)"
   ]
  },
  {
   "cell_type": "markdown",
   "id": "3d4d3da9",
   "metadata": {},
   "source": [
    "### Theorem\n",
    "\n",
    "For any events A and B with positive probabilities,\n",
    "\n",
    "$$ P(A \\cap B) = P(B)P(A|B) = P(A)P(B|A) $$\n"
   ]
  },
  {
   "cell_type": "markdown",
   "id": "380a3e4a",
   "metadata": {},
   "source": [
    "### Bayes' rule\n",
    "\n",
    "$$ P(A|B) = \\frac{P(B|A)P(A)}{P(B)}  $$"
   ]
  },
  {
   "cell_type": "markdown",
   "id": "b9865b0a",
   "metadata": {},
   "source": [
    "### Example 2.3.9\n",
    "\n",
    "(Testing for a rare disease) \n",
    "\n",
    "A patient named Fred is tested for a disease called conditionitis, a medical condition that affects 1% of the population.\n",
    "The test result is positive, i.e., the test claims that Fred has the disease. Let D be the event that Fred has the disease and \n",
    "R be the event that he tests positive.\n",
    "\n",
    "Suppose that the test is \"95% accurate\"; there are different measures of the accuracy of a test, but in this problem it is assumed to mean that P(R|D) = 0.95 and P(Rc|Dc) = 0.95. The quantity P(R|D) is known as the sensitivity or true positive\n",
    "rate of the test, and P(Rc|Dc) is known as the specificity or true negative rate. Find the conditional probability that Fred has conditionitis, given the evidence provided by the test result."
   ]
  },
  {
   "cell_type": "code",
   "execution_count": 5,
   "id": "74d45f9a",
   "metadata": {},
   "outputs": [],
   "source": [
    "#p_d -> infection probability\n",
    "#p_nod -> no infection probability\n",
    "#p_r_with_d -> infected with positive result probabilty\n",
    "#p_nor_with_d -> no infected with negative result probability\n",
    "#p_r_with_nod -> no infected, false positive\n",
    "\n",
    "p_d = 0.01\n",
    "p_nod = 0.99\n",
    "p_r_with_d = 0.95\n",
    "p_nor_with_nod = 0.95\n",
    "p_r_with_nod = 0.05"
   ]
  },
  {
   "cell_type": "markdown",
   "id": "8aed99fe",
   "metadata": {},
   "source": [
    "Using Bayes'rule\n",
    "\n",
    "$$ P(R|D)P(D) = P(D|R)P(R) \\Rightarrow P(D|R) = \\frac{P(R|D)P(D)}{P(R)}$$ \n",
    "\n",
    "We need to know P(R) first, which is \n",
    "\n",
    "$$ P(R) = P(R|D)P(D)+P(R|Dc)P(Dc) $$"
   ]
  },
  {
   "cell_type": "code",
   "execution_count": 9,
   "id": "e57aa9b4",
   "metadata": {},
   "outputs": [
    {
     "name": "stdout",
     "output_type": "stream",
     "text": [
      "probability of positive result (sum of true positive + false positive)\n",
      "0.059\n"
     ]
    }
   ],
   "source": [
    "p_r = (p_r_with_d*p_d)+(p_r_with_nod*p_nod)\n",
    "print(\"probability of positive result (sum of true positive + false positive)\")\n",
    "print(round(p_r, 3))"
   ]
  },
  {
   "cell_type": "code",
   "execution_count": 11,
   "id": "a2c2f97d",
   "metadata": {},
   "outputs": [
    {
     "name": "stdout",
     "output_type": "stream",
     "text": [
      "probability of infection:\n",
      "0.161\n"
     ]
    }
   ],
   "source": [
    "print(\"probability of infection:\")\n",
    "p_d_with_r = (p_r_with_d*p_d)/p_r\n",
    "print(round(p_d_with_r, 3))"
   ]
  },
  {
   "cell_type": "markdown",
   "id": "74739dd2",
   "metadata": {},
   "source": [
    "### 2.10 Simulating the frequentist interpretation (in Python instead R)\n",
    "\n",
    "Let's do the exercise 2.2.5 based on a large number n of repetitions. So:"
   ]
  },
  {
   "cell_type": "code",
   "execution_count": 26,
   "id": "01efbd55",
   "metadata": {},
   "outputs": [
    {
     "name": "stdout",
     "output_type": "stream",
     "text": [
      "4957\n",
      "2457\n",
      "0.4956626992132338\n"
     ]
    }
   ],
   "source": [
    "import random\n",
    "sample = 10000\n",
    "#1 stands for girl, 2 for boy\n",
    "child1 = [random.randint(1, 2) for x in range(sample)]\n",
    "child2 = [random.randint(1, 2) for x in range(sample)]\n",
    "two_childs_are_girls = 0\n",
    "first_child_is_girl = 0\n",
    "\n",
    "for i in range(sample):\n",
    "    if child1[i]==1 and child2[i]==1:\n",
    "        two_childs_are_girls += 1\n",
    "        \n",
    "    if child1[i]==1:\n",
    "        first_child_is_girl += 1\n",
    "\n",
    "print(first_child_is_girl)\n",
    "print(two_childs_are_girls)\n",
    "print(two_childs_are_girls/first_child_is_girl) #must be 0.5 approx"
   ]
  },
  {
   "cell_type": "code",
   "execution_count": 27,
   "id": "7403848e",
   "metadata": {},
   "outputs": [
    {
     "name": "stdout",
     "output_type": "stream",
     "text": [
      "7419\n",
      "2457\n",
      "0.3311767084512738\n"
     ]
    }
   ],
   "source": [
    "two_childs_are_girls = 0\n",
    "one_child_is_girl = 0\n",
    "\n",
    "for i in range(sample):\n",
    "    if child1[i]==1 and child2[i]==1:\n",
    "        two_childs_are_girls += 1\n",
    "        \n",
    "    if child1[i]==1 or child2[i]==1:\n",
    "        one_child_is_girl += 1\n",
    "\n",
    "print(one_child_is_girl)\n",
    "print(two_childs_are_girls)\n",
    "print(two_childs_are_girls/one_child_is_girl) #must be 0.33  approx"
   ]
  }
 ],
 "metadata": {
  "kernelspec": {
   "display_name": "Python 3 (ipykernel)",
   "language": "python",
   "name": "python3"
  },
  "language_info": {
   "codemirror_mode": {
    "name": "ipython",
    "version": 3
   },
   "file_extension": ".py",
   "mimetype": "text/x-python",
   "name": "python",
   "nbconvert_exporter": "python",
   "pygments_lexer": "ipython3",
   "version": "3.8.5"
  }
 },
 "nbformat": 4,
 "nbformat_minor": 5
}
